{
 "cells": [
  {
   "cell_type": "code",
   "execution_count": null,
   "id": "af8ea835-83c7-43fc-9087-f0b5991ff678",
   "metadata": {},
   "outputs": [],
   "source": [
    "import random\n",
    "\n",
    "cards = [11, 2, 3, 4, 5, 6, 7, 8, 9, 10, 10, 10, 10]\n",
    "\n",
    "game_continue = True\n",
    "while game_continue:\n",
    "    q = input(\"Do you want to play a game of Blackjack? Type 'y' or 'n': \")\n",
    "    if q == 'n':\n",
    "        game_continue = False\n",
    "        continue\n",
    "    user_choice = True\n",
    "    first_user_cards = random.sample(cards, 2)\n",
    "    first_dealer_cards = random.sample(cards, 2)\n",
    "    if sum(first_user_cards) == 21 and sum(first_dealer_cards) == 21:\n",
    "        print('Mosavi')\n",
    "        continue\n",
    "    elif sum(first_user_cards) == 21 and sum(first_dealer_cards) == 21:\n",
    "        print(\"\")\n",
    "    user_cards = first_user_cards\n",
    "\n",
    "    while user_choice:\n",
    "        print(f\"Your cards: {first_user_cards}, current score: {sum(first_user_cards)}\")\n",
    "        print(f\"Computer's first card: {first_dealer_cards[0]}\")\n",
    "        new_user_card = random.choice(cards)\n",
    "        user_cards.append(new_user_card)\n",
    "        print(user_cards)\n",
    "        if sum(user_cards) > 21:\n",
    "            user_choice = False\n"
   ]
  }
 ],
 "metadata": {
  "kernelspec": {
   "display_name": "Python 3 (ipykernel)",
   "language": "python",
   "name": "python3"
  },
  "language_info": {
   "codemirror_mode": {
    "name": "ipython",
    "version": 3
   },
   "file_extension": ".py",
   "mimetype": "text/x-python",
   "name": "python",
   "nbconvert_exporter": "python",
   "pygments_lexer": "ipython3",
   "version": "3.13.1"
  }
 },
 "nbformat": 4,
 "nbformat_minor": 5
}
